{
 "cells": [
  {
   "cell_type": "code",
   "execution_count": 86,
   "metadata": {},
   "outputs": [],
   "source": [
    "import pandas as pd\n",
    "import numpy as np\n",
    "import matplotlib.pyplot as plt"
   ]
  },
  {
   "cell_type": "markdown",
   "metadata": {},
   "source": [
    "# DTC dataset analysis "
   ]
  },
  {
   "cell_type": "markdown",
   "metadata": {},
   "source": [
    "Let's display the different columns"
   ]
  },
  {
   "cell_type": "code",
   "execution_count": 161,
   "metadata": {},
   "outputs": [
    {
     "name": "stdout",
     "output_type": "stream",
     "text": [
      "['compound_id', 'standard_inchi_key', 'compound_name', 'synonym', 'target_id', 'target_pref_name', 'gene_names', 'wildtype_or_mutant', 'mutation_info', 'pubmed_id', 'standard_type', 'standard_relation', 'standard_value', 'standard_units', 'activity_comment', 'ep_action_mode', 'assay_format', 'assaytype', 'assay_subtype', 'inhibitor_type', 'detection_tech', 'assay_cell_line', 'compound_concentration_value', 'compound_concentration_value_unit', 'substrate_type', 'substrate_relation', 'substrate_value', 'substrate_units', 'assay_description', 'title', 'journal', 'doc_type', 'annotation_comments']\n"
     ]
    }
   ],
   "source": [
    "print(pd.read_csv(DTC_PATH, sep=\",\", header=0, nrows=0).columns.tolist())"
   ]
  },
  {
   "cell_type": "code",
   "execution_count": 162,
   "metadata": {},
   "outputs": [],
   "source": [
    "DTC_PATH = \"/home/olivier/data/idg_dream/DTC_data.csv\"\n",
    "# For now we will only look into this columns\n",
    "COLUMNS_TO_LOAD = ['compound_id', 'standard_inchi_key', 'target_id', 'annotation_comments', 'standard_type', \n",
    "                   'standard_relation', 'standard_value', 'standard_units', 'mutation_info', 'assay_description']"
   ]
  },
  {
   "cell_type": "code",
   "execution_count": 163,
   "metadata": {},
   "outputs": [
    {
     "name": "stderr",
     "output_type": "stream",
     "text": [
      "/home/olivier/miniconda3/envs/idg_dream/lib/python3.7/site-packages/IPython/core/interactiveshell.py:3044: DtypeWarning: Columns (0,1,8,32) have mixed types. Specify dtype option on import or set low_memory=False.\n",
      "  interactivity=interactivity, compiler=compiler, result=result)\n"
     ]
    },
    {
     "name": "stdout",
     "output_type": "stream",
     "text": [
      "Size of the dwhole ataset : 5980952\n"
     ]
    }
   ],
   "source": [
    "dataset = pd.read_csv(DTC_PATH, sep=\",\", header=0, usecols=COLUMNS_TO_LOAD)\n",
    "print(f\"Size of the dwhole ataset : {len(dataset)}\")"
   ]
  },
  {
   "cell_type": "markdown",
   "metadata": {},
   "source": [
    "Let's remove lines that won't provide enough information for training"
   ]
  },
  {
   "cell_type": "code",
   "execution_count": 164,
   "metadata": {},
   "outputs": [
    {
     "name": "stdout",
     "output_type": "stream",
     "text": [
      "Size of the dataset after this filter : 3516514\n"
     ]
    },
    {
     "data": {
      "text/html": [
       "<div>\n",
       "<style scoped>\n",
       "    .dataframe tbody tr th:only-of-type {\n",
       "        vertical-align: middle;\n",
       "    }\n",
       "\n",
       "    .dataframe tbody tr th {\n",
       "        vertical-align: top;\n",
       "    }\n",
       "\n",
       "    .dataframe thead th {\n",
       "        text-align: right;\n",
       "    }\n",
       "</style>\n",
       "<table border=\"1\" class=\"dataframe\">\n",
       "  <thead>\n",
       "    <tr style=\"text-align: right;\">\n",
       "      <th></th>\n",
       "      <th>compound_id</th>\n",
       "      <th>standard_inchi_key</th>\n",
       "      <th>target_id</th>\n",
       "      <th>mutation_info</th>\n",
       "      <th>standard_type</th>\n",
       "      <th>standard_relation</th>\n",
       "      <th>standard_value</th>\n",
       "      <th>standard_units</th>\n",
       "      <th>assay_description</th>\n",
       "      <th>annotation_comments</th>\n",
       "    </tr>\n",
       "  </thead>\n",
       "  <tbody>\n",
       "    <tr>\n",
       "      <th>126</th>\n",
       "      <td>CHEMBL492934</td>\n",
       "      <td>AAAAEENPAALFRN-UHFFFAOYSA-N</td>\n",
       "      <td>Q9UBL9</td>\n",
       "      <td>NaN</td>\n",
       "      <td>IC50</td>\n",
       "      <td>=</td>\n",
       "      <td>39.81</td>\n",
       "      <td>NM</td>\n",
       "      <td>Antagonist activity at human P2X2/3 receptor e...</td>\n",
       "      <td>NaN</td>\n",
       "    </tr>\n",
       "    <tr>\n",
       "      <th>127</th>\n",
       "      <td>CHEMBL492934</td>\n",
       "      <td>AAAAEENPAALFRN-UHFFFAOYSA-N</td>\n",
       "      <td>P49654</td>\n",
       "      <td>NaN</td>\n",
       "      <td>IC50</td>\n",
       "      <td>=</td>\n",
       "      <td>15.85</td>\n",
       "      <td>NM</td>\n",
       "      <td>Antagonist activity at rat P2X3 receptor expre...</td>\n",
       "      <td>NaN</td>\n",
       "    </tr>\n",
       "    <tr>\n",
       "      <th>128</th>\n",
       "      <td>CHEMBL246893</td>\n",
       "      <td>AAAAKTROWFNLEP-UHFFFAOYSA-N</td>\n",
       "      <td>P49137</td>\n",
       "      <td>NaN</td>\n",
       "      <td>IC50</td>\n",
       "      <td>&gt;</td>\n",
       "      <td>20000.00</td>\n",
       "      <td>NM</td>\n",
       "      <td>Inhibition of MK2 after 30 mins by DELFIA</td>\n",
       "      <td>NaN</td>\n",
       "    </tr>\n",
       "    <tr>\n",
       "      <th>129</th>\n",
       "      <td>CHEMBL175513</td>\n",
       "      <td>AAAAZQPHATYWOK-JXMROGBWSA-N</td>\n",
       "      <td>P04626</td>\n",
       "      <td>NaN</td>\n",
       "      <td>IC50</td>\n",
       "      <td>=</td>\n",
       "      <td>64.00</td>\n",
       "      <td>NM</td>\n",
       "      <td>Inhibition of human epidermal growth factor re...</td>\n",
       "      <td>NaN</td>\n",
       "    </tr>\n",
       "    <tr>\n",
       "      <th>130</th>\n",
       "      <td>CHEMBL175513</td>\n",
       "      <td>AAAAZQPHATYWOK-JXMROGBWSA-N</td>\n",
       "      <td>P00533</td>\n",
       "      <td>NaN</td>\n",
       "      <td>IC50</td>\n",
       "      <td>=</td>\n",
       "      <td>188.00</td>\n",
       "      <td>NM</td>\n",
       "      <td>Inhibition of human epidermal growth factor re...</td>\n",
       "      <td>NaN</td>\n",
       "    </tr>\n",
       "  </tbody>\n",
       "</table>\n",
       "</div>"
      ],
      "text/plain": [
       "      compound_id           standard_inchi_key target_id mutation_info  \\\n",
       "126  CHEMBL492934  AAAAEENPAALFRN-UHFFFAOYSA-N    Q9UBL9           NaN   \n",
       "127  CHEMBL492934  AAAAEENPAALFRN-UHFFFAOYSA-N    P49654           NaN   \n",
       "128  CHEMBL246893  AAAAKTROWFNLEP-UHFFFAOYSA-N    P49137           NaN   \n",
       "129  CHEMBL175513  AAAAZQPHATYWOK-JXMROGBWSA-N    P04626           NaN   \n",
       "130  CHEMBL175513  AAAAZQPHATYWOK-JXMROGBWSA-N    P00533           NaN   \n",
       "\n",
       "    standard_type standard_relation  standard_value standard_units  \\\n",
       "126          IC50                 =           39.81             NM   \n",
       "127          IC50                 =           15.85             NM   \n",
       "128          IC50                 >        20000.00             NM   \n",
       "129          IC50                 =           64.00             NM   \n",
       "130          IC50                 =          188.00             NM   \n",
       "\n",
       "                                     assay_description annotation_comments  \n",
       "126  Antagonist activity at human P2X2/3 receptor e...                 NaN  \n",
       "127  Antagonist activity at rat P2X3 receptor expre...                 NaN  \n",
       "128          Inhibition of MK2 after 30 mins by DELFIA                 NaN  \n",
       "129  Inhibition of human epidermal growth factor re...                 NaN  \n",
       "130  Inhibition of human epidermal growth factor re...                 NaN  "
      ]
     },
     "execution_count": 164,
     "metadata": {},
     "output_type": "execute_result"
    }
   ],
   "source": [
    "dataset.dropna(subset=['standard_type', 'standard_units', 'standard_inchi_key', 'target_id', 'standard_value', \n",
    "                       'standard_relation'], how='any', inplace=True)\n",
    "print(f\"Size of the dataset after this filter : {len(dataset)}\")\n",
    "dataset.head()"
   ]
  },
  {
   "cell_type": "markdown",
   "metadata": {},
   "source": [
    "# Which lines correspond to KD endpoints?"
   ]
  },
  {
   "cell_type": "markdown",
   "metadata": {},
   "source": [
    "First let's work on the standard_type columns which will help us filter the appropriate rows"
   ]
  },
  {
   "cell_type": "code",
   "execution_count": 165,
   "metadata": {},
   "outputs": [
    {
     "data": {
      "text/plain": [
       "array(['KD', 'Kd', 'KDAPP', 'PKD', 'KD HYDRO', 'KD APP', \"KD'\", 'KD1',\n",
       "       'KD2', 'KDISS', 'KDSPA', 'KD/KI', 'KDS', 'KDSPR'], dtype=object)"
      ]
     },
     "execution_count": 165,
     "metadata": {},
     "output_type": "execute_result"
    }
   ],
   "source": [
    "dataset[dataset.standard_type.str.contains('kd', case=False)].standard_type.unique()"
   ]
  },
  {
   "cell_type": "markdown",
   "metadata": {},
   "source": [
    "We will consider appropriate only the rows with the following standard_type values"
   ]
  },
  {
   "cell_type": "code",
   "execution_count": 166,
   "metadata": {},
   "outputs": [],
   "source": [
    "kd_types = ['-LOG KD', 'KD', 'Kd', 'LOG 1/KD', 'LOG KD', 'LOGKD', 'PKD']"
   ]
  },
  {
   "cell_type": "code",
   "execution_count": 167,
   "metadata": {},
   "outputs": [
    {
     "name": "stdout",
     "output_type": "stream",
     "text": [
      "Size of the dataset after this filter : 75409\n"
     ]
    },
    {
     "data": {
      "text/html": [
       "<div>\n",
       "<style scoped>\n",
       "    .dataframe tbody tr th:only-of-type {\n",
       "        vertical-align: middle;\n",
       "    }\n",
       "\n",
       "    .dataframe tbody tr th {\n",
       "        vertical-align: top;\n",
       "    }\n",
       "\n",
       "    .dataframe thead th {\n",
       "        text-align: right;\n",
       "    }\n",
       "</style>\n",
       "<table border=\"1\" class=\"dataframe\">\n",
       "  <thead>\n",
       "    <tr style=\"text-align: right;\">\n",
       "      <th></th>\n",
       "      <th>compound_id</th>\n",
       "      <th>standard_inchi_key</th>\n",
       "      <th>target_id</th>\n",
       "      <th>mutation_info</th>\n",
       "      <th>standard_type</th>\n",
       "      <th>standard_relation</th>\n",
       "      <th>standard_value</th>\n",
       "      <th>standard_units</th>\n",
       "      <th>assay_description</th>\n",
       "      <th>annotation_comments</th>\n",
       "    </tr>\n",
       "  </thead>\n",
       "  <tbody>\n",
       "    <tr>\n",
       "      <th>216</th>\n",
       "      <td>CHEMBL135581</td>\n",
       "      <td>AAAKPBKWFMPTSQ-UHFFFAOYSA-N</td>\n",
       "      <td>P00374</td>\n",
       "      <td>NaN</td>\n",
       "      <td>KD</td>\n",
       "      <td>=</td>\n",
       "      <td>0.5</td>\n",
       "      <td>NM</td>\n",
       "      <td>Tested for the apparent dissociation constant ...</td>\n",
       "      <td>NaN</td>\n",
       "    </tr>\n",
       "    <tr>\n",
       "      <th>217</th>\n",
       "      <td>CHEMBL135581</td>\n",
       "      <td>AAAKPBKWFMPTSQ-UHFFFAOYSA-N</td>\n",
       "      <td>P00374</td>\n",
       "      <td>NaN</td>\n",
       "      <td>KD</td>\n",
       "      <td>=</td>\n",
       "      <td>0.6</td>\n",
       "      <td>NM</td>\n",
       "      <td>Tested for the apparent dissociation constant ...</td>\n",
       "      <td>NaN</td>\n",
       "    </tr>\n",
       "    <tr>\n",
       "      <th>218</th>\n",
       "      <td>CHEMBL135581</td>\n",
       "      <td>AAAKPBKWFMPTSQ-UHFFFAOYSA-N</td>\n",
       "      <td>P00374</td>\n",
       "      <td>NaN</td>\n",
       "      <td>KD</td>\n",
       "      <td>=</td>\n",
       "      <td>450.0</td>\n",
       "      <td>NM</td>\n",
       "      <td>Tested for the apparent dissociation constant ...</td>\n",
       "      <td>NaN</td>\n",
       "    </tr>\n",
       "    <tr>\n",
       "      <th>219</th>\n",
       "      <td>CHEMBL135581</td>\n",
       "      <td>AAAKPBKWFMPTSQ-UHFFFAOYSA-N</td>\n",
       "      <td>P00374</td>\n",
       "      <td>NaN</td>\n",
       "      <td>KD</td>\n",
       "      <td>=</td>\n",
       "      <td>1000.0</td>\n",
       "      <td>NM</td>\n",
       "      <td>Tested for the apparent dissociation constant ...</td>\n",
       "      <td>NaN</td>\n",
       "    </tr>\n",
       "    <tr>\n",
       "      <th>220</th>\n",
       "      <td>CHEMBL135581</td>\n",
       "      <td>AAAKPBKWFMPTSQ-UHFFFAOYSA-N</td>\n",
       "      <td>P00374</td>\n",
       "      <td>NaN</td>\n",
       "      <td>KD</td>\n",
       "      <td>=</td>\n",
       "      <td>1200.0</td>\n",
       "      <td>NM</td>\n",
       "      <td>Tested for the apparent dissociation constant ...</td>\n",
       "      <td>NaN</td>\n",
       "    </tr>\n",
       "  </tbody>\n",
       "</table>\n",
       "</div>"
      ],
      "text/plain": [
       "      compound_id           standard_inchi_key target_id mutation_info  \\\n",
       "216  CHEMBL135581  AAAKPBKWFMPTSQ-UHFFFAOYSA-N    P00374           NaN   \n",
       "217  CHEMBL135581  AAAKPBKWFMPTSQ-UHFFFAOYSA-N    P00374           NaN   \n",
       "218  CHEMBL135581  AAAKPBKWFMPTSQ-UHFFFAOYSA-N    P00374           NaN   \n",
       "219  CHEMBL135581  AAAKPBKWFMPTSQ-UHFFFAOYSA-N    P00374           NaN   \n",
       "220  CHEMBL135581  AAAKPBKWFMPTSQ-UHFFFAOYSA-N    P00374           NaN   \n",
       "\n",
       "    standard_type standard_relation  standard_value standard_units  \\\n",
       "216            KD                 =             0.5             NM   \n",
       "217            KD                 =             0.6             NM   \n",
       "218            KD                 =           450.0             NM   \n",
       "219            KD                 =          1000.0             NM   \n",
       "220            KD                 =          1200.0             NM   \n",
       "\n",
       "                                     assay_description annotation_comments  \n",
       "216  Tested for the apparent dissociation constant ...                 NaN  \n",
       "217  Tested for the apparent dissociation constant ...                 NaN  \n",
       "218  Tested for the apparent dissociation constant ...                 NaN  \n",
       "219  Tested for the apparent dissociation constant ...                 NaN  \n",
       "220  Tested for the apparent dissociation constant ...                 NaN  "
      ]
     },
     "execution_count": 167,
     "metadata": {},
     "output_type": "execute_result"
    }
   ],
   "source": [
    "dataset = dataset[dataset.standard_type.isin(kd_types)]\n",
    "print(f\"Size of the dataset after this filter : {len(dataset)}\")\n",
    "dataset.head()"
   ]
  },
  {
   "cell_type": "markdown",
   "metadata": {},
   "source": [
    "# What kind of units are used?"
   ]
  },
  {
   "cell_type": "code",
   "execution_count": 168,
   "metadata": {},
   "outputs": [
    {
     "data": {
      "text/plain": [
       "standard_units\n",
       "-LOG(10) M       674\n",
       "/S                 7\n",
       "/UM                8\n",
       "10'-1/S           30\n",
       "10'-10L/MOL        1\n",
       "10'-2/S           22\n",
       "10'-3/S            8\n",
       "10'-9L/MOL         1\n",
       "KCAL/MOL           2\n",
       "L M-1             18\n",
       "MIN-1             30\n",
       "MM                 9\n",
       "NM             74556\n",
       "NMOL/L            19\n",
       "NO_UNIT            2\n",
       "S-1               13\n",
       "UG ML-1            6\n",
       "UL/OD/MIN          3\n",
       "dtype: int64"
      ]
     },
     "execution_count": 168,
     "metadata": {},
     "output_type": "execute_result"
    }
   ],
   "source": [
    "dataset.groupby('standard_units').size()"
   ]
  },
  {
   "cell_type": "markdown",
   "metadata": {},
   "source": [
    "Considering the counts on units we will only use the following units for now"
   ]
  },
  {
   "cell_type": "code",
   "execution_count": 169,
   "metadata": {},
   "outputs": [],
   "source": [
    "kd_units = [\"NM\", \"-LOG(10) M\"]"
   ]
  },
  {
   "cell_type": "code",
   "execution_count": 170,
   "metadata": {},
   "outputs": [
    {
     "name": "stdout",
     "output_type": "stream",
     "text": [
      "Size of the dataset after this filter : 75230\n"
     ]
    },
    {
     "data": {
      "text/html": [
       "<div>\n",
       "<style scoped>\n",
       "    .dataframe tbody tr th:only-of-type {\n",
       "        vertical-align: middle;\n",
       "    }\n",
       "\n",
       "    .dataframe tbody tr th {\n",
       "        vertical-align: top;\n",
       "    }\n",
       "\n",
       "    .dataframe thead th {\n",
       "        text-align: right;\n",
       "    }\n",
       "</style>\n",
       "<table border=\"1\" class=\"dataframe\">\n",
       "  <thead>\n",
       "    <tr style=\"text-align: right;\">\n",
       "      <th></th>\n",
       "      <th>compound_id</th>\n",
       "      <th>standard_inchi_key</th>\n",
       "      <th>target_id</th>\n",
       "      <th>mutation_info</th>\n",
       "      <th>standard_type</th>\n",
       "      <th>standard_relation</th>\n",
       "      <th>standard_value</th>\n",
       "      <th>standard_units</th>\n",
       "      <th>assay_description</th>\n",
       "      <th>annotation_comments</th>\n",
       "    </tr>\n",
       "  </thead>\n",
       "  <tbody>\n",
       "    <tr>\n",
       "      <th>216</th>\n",
       "      <td>CHEMBL135581</td>\n",
       "      <td>AAAKPBKWFMPTSQ-UHFFFAOYSA-N</td>\n",
       "      <td>P00374</td>\n",
       "      <td>NaN</td>\n",
       "      <td>KD</td>\n",
       "      <td>=</td>\n",
       "      <td>0.5</td>\n",
       "      <td>NM</td>\n",
       "      <td>Tested for the apparent dissociation constant ...</td>\n",
       "      <td>NaN</td>\n",
       "    </tr>\n",
       "    <tr>\n",
       "      <th>217</th>\n",
       "      <td>CHEMBL135581</td>\n",
       "      <td>AAAKPBKWFMPTSQ-UHFFFAOYSA-N</td>\n",
       "      <td>P00374</td>\n",
       "      <td>NaN</td>\n",
       "      <td>KD</td>\n",
       "      <td>=</td>\n",
       "      <td>0.6</td>\n",
       "      <td>NM</td>\n",
       "      <td>Tested for the apparent dissociation constant ...</td>\n",
       "      <td>NaN</td>\n",
       "    </tr>\n",
       "    <tr>\n",
       "      <th>218</th>\n",
       "      <td>CHEMBL135581</td>\n",
       "      <td>AAAKPBKWFMPTSQ-UHFFFAOYSA-N</td>\n",
       "      <td>P00374</td>\n",
       "      <td>NaN</td>\n",
       "      <td>KD</td>\n",
       "      <td>=</td>\n",
       "      <td>450.0</td>\n",
       "      <td>NM</td>\n",
       "      <td>Tested for the apparent dissociation constant ...</td>\n",
       "      <td>NaN</td>\n",
       "    </tr>\n",
       "    <tr>\n",
       "      <th>219</th>\n",
       "      <td>CHEMBL135581</td>\n",
       "      <td>AAAKPBKWFMPTSQ-UHFFFAOYSA-N</td>\n",
       "      <td>P00374</td>\n",
       "      <td>NaN</td>\n",
       "      <td>KD</td>\n",
       "      <td>=</td>\n",
       "      <td>1000.0</td>\n",
       "      <td>NM</td>\n",
       "      <td>Tested for the apparent dissociation constant ...</td>\n",
       "      <td>NaN</td>\n",
       "    </tr>\n",
       "    <tr>\n",
       "      <th>220</th>\n",
       "      <td>CHEMBL135581</td>\n",
       "      <td>AAAKPBKWFMPTSQ-UHFFFAOYSA-N</td>\n",
       "      <td>P00374</td>\n",
       "      <td>NaN</td>\n",
       "      <td>KD</td>\n",
       "      <td>=</td>\n",
       "      <td>1200.0</td>\n",
       "      <td>NM</td>\n",
       "      <td>Tested for the apparent dissociation constant ...</td>\n",
       "      <td>NaN</td>\n",
       "    </tr>\n",
       "  </tbody>\n",
       "</table>\n",
       "</div>"
      ],
      "text/plain": [
       "      compound_id           standard_inchi_key target_id mutation_info  \\\n",
       "216  CHEMBL135581  AAAKPBKWFMPTSQ-UHFFFAOYSA-N    P00374           NaN   \n",
       "217  CHEMBL135581  AAAKPBKWFMPTSQ-UHFFFAOYSA-N    P00374           NaN   \n",
       "218  CHEMBL135581  AAAKPBKWFMPTSQ-UHFFFAOYSA-N    P00374           NaN   \n",
       "219  CHEMBL135581  AAAKPBKWFMPTSQ-UHFFFAOYSA-N    P00374           NaN   \n",
       "220  CHEMBL135581  AAAKPBKWFMPTSQ-UHFFFAOYSA-N    P00374           NaN   \n",
       "\n",
       "    standard_type standard_relation  standard_value standard_units  \\\n",
       "216            KD                 =             0.5             NM   \n",
       "217            KD                 =             0.6             NM   \n",
       "218            KD                 =           450.0             NM   \n",
       "219            KD                 =          1000.0             NM   \n",
       "220            KD                 =          1200.0             NM   \n",
       "\n",
       "                                     assay_description annotation_comments  \n",
       "216  Tested for the apparent dissociation constant ...                 NaN  \n",
       "217  Tested for the apparent dissociation constant ...                 NaN  \n",
       "218  Tested for the apparent dissociation constant ...                 NaN  \n",
       "219  Tested for the apparent dissociation constant ...                 NaN  \n",
       "220  Tested for the apparent dissociation constant ...                 NaN  "
      ]
     },
     "execution_count": 170,
     "metadata": {},
     "output_type": "execute_result"
    }
   ],
   "source": [
    "dataset = dataset[dataset.standard_units.isin(kd_units)]\n",
    "print(f\"Size of the dataset after this filter : {len(dataset)}\")\n",
    "dataset.head()"
   ]
  },
  {
   "cell_type": "markdown",
   "metadata": {},
   "source": [
    "# Let's convert all units to M units as it is the contest used unit"
   ]
  },
  {
   "cell_type": "code",
   "execution_count": 171,
   "metadata": {},
   "outputs": [],
   "source": [
    "def convert(x):\n",
    "    unit = x['standard_units']\n",
    "    value = x['standard_value']\n",
    "    if unit == \"NM\":\n",
    "        return [value * 1e-9, 'M']\n",
    "    elif unit == \"-LOG(10) M\":\n",
    "        return [10**(-value), 'M']\n",
    "    else:\n",
    "        print(x)\n",
    "        raise\n",
    "\n",
    "dataset[['standard_value', 'standard_units']] = dataset.apply(lambda row: pd.Series(convert(row)), axis=1)"
   ]
  },
  {
   "cell_type": "code",
   "execution_count": 172,
   "metadata": {},
   "outputs": [
    {
     "data": {
      "text/html": [
       "<div>\n",
       "<style scoped>\n",
       "    .dataframe tbody tr th:only-of-type {\n",
       "        vertical-align: middle;\n",
       "    }\n",
       "\n",
       "    .dataframe tbody tr th {\n",
       "        vertical-align: top;\n",
       "    }\n",
       "\n",
       "    .dataframe thead th {\n",
       "        text-align: right;\n",
       "    }\n",
       "</style>\n",
       "<table border=\"1\" class=\"dataframe\">\n",
       "  <thead>\n",
       "    <tr style=\"text-align: right;\">\n",
       "      <th></th>\n",
       "      <th>compound_id</th>\n",
       "      <th>standard_inchi_key</th>\n",
       "      <th>target_id</th>\n",
       "      <th>mutation_info</th>\n",
       "      <th>standard_type</th>\n",
       "      <th>standard_relation</th>\n",
       "      <th>standard_value</th>\n",
       "      <th>standard_units</th>\n",
       "      <th>assay_description</th>\n",
       "      <th>annotation_comments</th>\n",
       "    </tr>\n",
       "  </thead>\n",
       "  <tbody>\n",
       "    <tr>\n",
       "      <th>216</th>\n",
       "      <td>CHEMBL135581</td>\n",
       "      <td>AAAKPBKWFMPTSQ-UHFFFAOYSA-N</td>\n",
       "      <td>P00374</td>\n",
       "      <td>NaN</td>\n",
       "      <td>KD</td>\n",
       "      <td>=</td>\n",
       "      <td>5.000000e-10</td>\n",
       "      <td>M</td>\n",
       "      <td>Tested for the apparent dissociation constant ...</td>\n",
       "      <td>NaN</td>\n",
       "    </tr>\n",
       "    <tr>\n",
       "      <th>217</th>\n",
       "      <td>CHEMBL135581</td>\n",
       "      <td>AAAKPBKWFMPTSQ-UHFFFAOYSA-N</td>\n",
       "      <td>P00374</td>\n",
       "      <td>NaN</td>\n",
       "      <td>KD</td>\n",
       "      <td>=</td>\n",
       "      <td>6.000000e-10</td>\n",
       "      <td>M</td>\n",
       "      <td>Tested for the apparent dissociation constant ...</td>\n",
       "      <td>NaN</td>\n",
       "    </tr>\n",
       "    <tr>\n",
       "      <th>218</th>\n",
       "      <td>CHEMBL135581</td>\n",
       "      <td>AAAKPBKWFMPTSQ-UHFFFAOYSA-N</td>\n",
       "      <td>P00374</td>\n",
       "      <td>NaN</td>\n",
       "      <td>KD</td>\n",
       "      <td>=</td>\n",
       "      <td>4.500000e-07</td>\n",
       "      <td>M</td>\n",
       "      <td>Tested for the apparent dissociation constant ...</td>\n",
       "      <td>NaN</td>\n",
       "    </tr>\n",
       "    <tr>\n",
       "      <th>219</th>\n",
       "      <td>CHEMBL135581</td>\n",
       "      <td>AAAKPBKWFMPTSQ-UHFFFAOYSA-N</td>\n",
       "      <td>P00374</td>\n",
       "      <td>NaN</td>\n",
       "      <td>KD</td>\n",
       "      <td>=</td>\n",
       "      <td>1.000000e-06</td>\n",
       "      <td>M</td>\n",
       "      <td>Tested for the apparent dissociation constant ...</td>\n",
       "      <td>NaN</td>\n",
       "    </tr>\n",
       "    <tr>\n",
       "      <th>220</th>\n",
       "      <td>CHEMBL135581</td>\n",
       "      <td>AAAKPBKWFMPTSQ-UHFFFAOYSA-N</td>\n",
       "      <td>P00374</td>\n",
       "      <td>NaN</td>\n",
       "      <td>KD</td>\n",
       "      <td>=</td>\n",
       "      <td>1.200000e-06</td>\n",
       "      <td>M</td>\n",
       "      <td>Tested for the apparent dissociation constant ...</td>\n",
       "      <td>NaN</td>\n",
       "    </tr>\n",
       "  </tbody>\n",
       "</table>\n",
       "</div>"
      ],
      "text/plain": [
       "      compound_id           standard_inchi_key target_id mutation_info  \\\n",
       "216  CHEMBL135581  AAAKPBKWFMPTSQ-UHFFFAOYSA-N    P00374           NaN   \n",
       "217  CHEMBL135581  AAAKPBKWFMPTSQ-UHFFFAOYSA-N    P00374           NaN   \n",
       "218  CHEMBL135581  AAAKPBKWFMPTSQ-UHFFFAOYSA-N    P00374           NaN   \n",
       "219  CHEMBL135581  AAAKPBKWFMPTSQ-UHFFFAOYSA-N    P00374           NaN   \n",
       "220  CHEMBL135581  AAAKPBKWFMPTSQ-UHFFFAOYSA-N    P00374           NaN   \n",
       "\n",
       "    standard_type standard_relation  standard_value standard_units  \\\n",
       "216            KD                 =    5.000000e-10              M   \n",
       "217            KD                 =    6.000000e-10              M   \n",
       "218            KD                 =    4.500000e-07              M   \n",
       "219            KD                 =    1.000000e-06              M   \n",
       "220            KD                 =    1.200000e-06              M   \n",
       "\n",
       "                                     assay_description annotation_comments  \n",
       "216  Tested for the apparent dissociation constant ...                 NaN  \n",
       "217  Tested for the apparent dissociation constant ...                 NaN  \n",
       "218  Tested for the apparent dissociation constant ...                 NaN  \n",
       "219  Tested for the apparent dissociation constant ...                 NaN  \n",
       "220  Tested for the apparent dissociation constant ...                 NaN  "
      ]
     },
     "execution_count": 172,
     "metadata": {},
     "output_type": "execute_result"
    }
   ],
   "source": [
    "dataset.head()"
   ]
  },
  {
   "cell_type": "markdown",
   "metadata": {},
   "source": [
    "# What about the standard relation?"
   ]
  },
  {
   "cell_type": "code",
   "execution_count": 173,
   "metadata": {},
   "outputs": [
    {
     "data": {
      "text/plain": [
       "standard_relation\n",
       "<       201\n",
       "<=       13\n",
       "=     38823\n",
       ">     36142\n",
       ">=       14\n",
       "~        37\n",
       "dtype: int64"
      ]
     },
     "execution_count": 173,
     "metadata": {},
     "output_type": "execute_result"
    }
   ],
   "source": [
    "dataset.groupby('standard_relation').size()"
   ]
  },
  {
   "cell_type": "code",
   "execution_count": 174,
   "metadata": {},
   "outputs": [],
   "source": [
    "sup_standard_values = dataset[dataset.standard_relation == '>'].groupby('standard_value').size()"
   ]
  },
  {
   "cell_type": "code",
   "execution_count": 175,
   "metadata": {},
   "outputs": [
    {
     "data": {
      "text/plain": [
       "<matplotlib.axes._subplots.AxesSubplot at 0x7fd8014b39b0>"
      ]
     },
     "execution_count": 175,
     "metadata": {},
     "output_type": "execute_result"
    },
    {
     "data": {
      "image/png": "[encoded data removed]",
      "text/plain": [
       "<Figure size 432x288 with 1 Axes>"
      ]
     },
     "metadata": {
      "needs_background": "light"
     },
     "output_type": "display_data"
    }
   ],
   "source": [
    "sup_standard_values.plot.bar()"
   ]
  },
  {
   "cell_type": "code",
   "execution_count": 176,
   "metadata": {},
   "outputs": [
    {
     "data": {
      "text/plain": [
       "standard_value\n",
       "0.000010    96.881744\n",
       "0.000001     0.796857\n",
       "0.000100     0.481434\n",
       "0.000020     0.132809\n",
       "0.005000     0.127276\n",
       "dtype: float64"
      ]
     },
     "execution_count": 176,
     "metadata": {},
     "output_type": "execute_result"
    }
   ],
   "source": [
    "(100*sup_standard_values/sup_standard_values.sum()).sort_values(ascending=False).head()"
   ]
  },
  {
   "cell_type": "markdown",
   "metadata": {},
   "source": [
    "This part of the dataset is extremly biased and cannot be used : 1e-5 represent 96% of this part of the dataset and roughly 50% of the whole remaining dataset. We will thus only use the standard relation '='"
   ]
  },
  {
   "cell_type": "code",
   "execution_count": 177,
   "metadata": {},
   "outputs": [
    {
     "name": "stdout",
     "output_type": "stream",
     "text": [
      "Size of the dataset after this filter : 38823\n"
     ]
    },
    {
     "data": {
      "text/html": [
       "<div>\n",
       "<style scoped>\n",
       "    .dataframe tbody tr th:only-of-type {\n",
       "        vertical-align: middle;\n",
       "    }\n",
       "\n",
       "    .dataframe tbody tr th {\n",
       "        vertical-align: top;\n",
       "    }\n",
       "\n",
       "    .dataframe thead th {\n",
       "        text-align: right;\n",
       "    }\n",
       "</style>\n",
       "<table border=\"1\" class=\"dataframe\">\n",
       "  <thead>\n",
       "    <tr style=\"text-align: right;\">\n",
       "      <th></th>\n",
       "      <th>compound_id</th>\n",
       "      <th>standard_inchi_key</th>\n",
       "      <th>target_id</th>\n",
       "      <th>mutation_info</th>\n",
       "      <th>standard_type</th>\n",
       "      <th>standard_relation</th>\n",
       "      <th>standard_value</th>\n",
       "      <th>standard_units</th>\n",
       "      <th>assay_description</th>\n",
       "      <th>annotation_comments</th>\n",
       "    </tr>\n",
       "  </thead>\n",
       "  <tbody>\n",
       "    <tr>\n",
       "      <th>216</th>\n",
       "      <td>CHEMBL135581</td>\n",
       "      <td>AAAKPBKWFMPTSQ-UHFFFAOYSA-N</td>\n",
       "      <td>P00374</td>\n",
       "      <td>NaN</td>\n",
       "      <td>KD</td>\n",
       "      <td>=</td>\n",
       "      <td>5.000000e-10</td>\n",
       "      <td>M</td>\n",
       "      <td>Tested for the apparent dissociation constant ...</td>\n",
       "      <td>NaN</td>\n",
       "    </tr>\n",
       "    <tr>\n",
       "      <th>217</th>\n",
       "      <td>CHEMBL135581</td>\n",
       "      <td>AAAKPBKWFMPTSQ-UHFFFAOYSA-N</td>\n",
       "      <td>P00374</td>\n",
       "      <td>NaN</td>\n",
       "      <td>KD</td>\n",
       "      <td>=</td>\n",
       "      <td>6.000000e-10</td>\n",
       "      <td>M</td>\n",
       "      <td>Tested for the apparent dissociation constant ...</td>\n",
       "      <td>NaN</td>\n",
       "    </tr>\n",
       "    <tr>\n",
       "      <th>218</th>\n",
       "      <td>CHEMBL135581</td>\n",
       "      <td>AAAKPBKWFMPTSQ-UHFFFAOYSA-N</td>\n",
       "      <td>P00374</td>\n",
       "      <td>NaN</td>\n",
       "      <td>KD</td>\n",
       "      <td>=</td>\n",
       "      <td>4.500000e-07</td>\n",
       "      <td>M</td>\n",
       "      <td>Tested for the apparent dissociation constant ...</td>\n",
       "      <td>NaN</td>\n",
       "    </tr>\n",
       "    <tr>\n",
       "      <th>219</th>\n",
       "      <td>CHEMBL135581</td>\n",
       "      <td>AAAKPBKWFMPTSQ-UHFFFAOYSA-N</td>\n",
       "      <td>P00374</td>\n",
       "      <td>NaN</td>\n",
       "      <td>KD</td>\n",
       "      <td>=</td>\n",
       "      <td>1.000000e-06</td>\n",
       "      <td>M</td>\n",
       "      <td>Tested for the apparent dissociation constant ...</td>\n",
       "      <td>NaN</td>\n",
       "    </tr>\n",
       "    <tr>\n",
       "      <th>220</th>\n",
       "      <td>CHEMBL135581</td>\n",
       "      <td>AAAKPBKWFMPTSQ-UHFFFAOYSA-N</td>\n",
       "      <td>P00374</td>\n",
       "      <td>NaN</td>\n",
       "      <td>KD</td>\n",
       "      <td>=</td>\n",
       "      <td>1.200000e-06</td>\n",
       "      <td>M</td>\n",
       "      <td>Tested for the apparent dissociation constant ...</td>\n",
       "      <td>NaN</td>\n",
       "    </tr>\n",
       "  </tbody>\n",
       "</table>\n",
       "</div>"
      ],
      "text/plain": [
       "      compound_id           standard_inchi_key target_id mutation_info  \\\n",
       "216  CHEMBL135581  AAAKPBKWFMPTSQ-UHFFFAOYSA-N    P00374           NaN   \n",
       "217  CHEMBL135581  AAAKPBKWFMPTSQ-UHFFFAOYSA-N    P00374           NaN   \n",
       "218  CHEMBL135581  AAAKPBKWFMPTSQ-UHFFFAOYSA-N    P00374           NaN   \n",
       "219  CHEMBL135581  AAAKPBKWFMPTSQ-UHFFFAOYSA-N    P00374           NaN   \n",
       "220  CHEMBL135581  AAAKPBKWFMPTSQ-UHFFFAOYSA-N    P00374           NaN   \n",
       "\n",
       "    standard_type standard_relation  standard_value standard_units  \\\n",
       "216            KD                 =    5.000000e-10              M   \n",
       "217            KD                 =    6.000000e-10              M   \n",
       "218            KD                 =    4.500000e-07              M   \n",
       "219            KD                 =    1.000000e-06              M   \n",
       "220            KD                 =    1.200000e-06              M   \n",
       "\n",
       "                                     assay_description annotation_comments  \n",
       "216  Tested for the apparent dissociation constant ...                 NaN  \n",
       "217  Tested for the apparent dissociation constant ...                 NaN  \n",
       "218  Tested for the apparent dissociation constant ...                 NaN  \n",
       "219  Tested for the apparent dissociation constant ...                 NaN  \n",
       "220  Tested for the apparent dissociation constant ...                 NaN  "
      ]
     },
     "execution_count": 177,
     "metadata": {},
     "output_type": "execute_result"
    }
   ],
   "source": [
    "dataset = dataset[dataset.standard_relation == '=']\n",
    "print(f\"Size of the dataset after this filter : {len(dataset)}\")\n",
    "dataset.head()"
   ]
  },
  {
   "cell_type": "markdown",
   "metadata": {},
   "source": [
    "# Sometimes the target_id column seems to contain more than one target"
   ]
  },
  {
   "cell_type": "markdown",
   "metadata": {},
   "source": [
    "Those target_ids are separated by \",\""
   ]
  },
  {
   "cell_type": "code",
   "execution_count": 178,
   "metadata": {},
   "outputs": [
    {
     "data": {
      "text/plain": [
       "2979"
      ]
     },
     "execution_count": 178,
     "metadata": {},
     "output_type": "execute_result"
    }
   ],
   "source": [
    "len(dataset[dataset.target_id.str.contains(',')])"
   ]
  },
  {
   "cell_type": "markdown",
   "metadata": {},
   "source": [
    "We are not interested in complexes but only in 1-1 relationship between a drug and a target"
   ]
  },
  {
   "cell_type": "code",
   "execution_count": 179,
   "metadata": {},
   "outputs": [
    {
     "name": "stdout",
     "output_type": "stream",
     "text": [
      "Size of the dataset after this filter : 35844\n"
     ]
    },
    {
     "data": {
      "text/html": [
       "<div>\n",
       "<style scoped>\n",
       "    .dataframe tbody tr th:only-of-type {\n",
       "        vertical-align: middle;\n",
       "    }\n",
       "\n",
       "    .dataframe tbody tr th {\n",
       "        vertical-align: top;\n",
       "    }\n",
       "\n",
       "    .dataframe thead th {\n",
       "        text-align: right;\n",
       "    }\n",
       "</style>\n",
       "<table border=\"1\" class=\"dataframe\">\n",
       "  <thead>\n",
       "    <tr style=\"text-align: right;\">\n",
       "      <th></th>\n",
       "      <th>compound_id</th>\n",
       "      <th>standard_inchi_key</th>\n",
       "      <th>target_id</th>\n",
       "      <th>mutation_info</th>\n",
       "      <th>standard_type</th>\n",
       "      <th>standard_relation</th>\n",
       "      <th>standard_value</th>\n",
       "      <th>standard_units</th>\n",
       "      <th>assay_description</th>\n",
       "      <th>annotation_comments</th>\n",
       "    </tr>\n",
       "  </thead>\n",
       "  <tbody>\n",
       "    <tr>\n",
       "      <th>216</th>\n",
       "      <td>CHEMBL135581</td>\n",
       "      <td>AAAKPBKWFMPTSQ-UHFFFAOYSA-N</td>\n",
       "      <td>P00374</td>\n",
       "      <td>NaN</td>\n",
       "      <td>KD</td>\n",
       "      <td>=</td>\n",
       "      <td>5.000000e-10</td>\n",
       "      <td>M</td>\n",
       "      <td>Tested for the apparent dissociation constant ...</td>\n",
       "      <td>NaN</td>\n",
       "    </tr>\n",
       "    <tr>\n",
       "      <th>217</th>\n",
       "      <td>CHEMBL135581</td>\n",
       "      <td>AAAKPBKWFMPTSQ-UHFFFAOYSA-N</td>\n",
       "      <td>P00374</td>\n",
       "      <td>NaN</td>\n",
       "      <td>KD</td>\n",
       "      <td>=</td>\n",
       "      <td>6.000000e-10</td>\n",
       "      <td>M</td>\n",
       "      <td>Tested for the apparent dissociation constant ...</td>\n",
       "      <td>NaN</td>\n",
       "    </tr>\n",
       "    <tr>\n",
       "      <th>218</th>\n",
       "      <td>CHEMBL135581</td>\n",
       "      <td>AAAKPBKWFMPTSQ-UHFFFAOYSA-N</td>\n",
       "      <td>P00374</td>\n",
       "      <td>NaN</td>\n",
       "      <td>KD</td>\n",
       "      <td>=</td>\n",
       "      <td>4.500000e-07</td>\n",
       "      <td>M</td>\n",
       "      <td>Tested for the apparent dissociation constant ...</td>\n",
       "      <td>NaN</td>\n",
       "    </tr>\n",
       "    <tr>\n",
       "      <th>219</th>\n",
       "      <td>CHEMBL135581</td>\n",
       "      <td>AAAKPBKWFMPTSQ-UHFFFAOYSA-N</td>\n",
       "      <td>P00374</td>\n",
       "      <td>NaN</td>\n",
       "      <td>KD</td>\n",
       "      <td>=</td>\n",
       "      <td>1.000000e-06</td>\n",
       "      <td>M</td>\n",
       "      <td>Tested for the apparent dissociation constant ...</td>\n",
       "      <td>NaN</td>\n",
       "    </tr>\n",
       "    <tr>\n",
       "      <th>220</th>\n",
       "      <td>CHEMBL135581</td>\n",
       "      <td>AAAKPBKWFMPTSQ-UHFFFAOYSA-N</td>\n",
       "      <td>P00374</td>\n",
       "      <td>NaN</td>\n",
       "      <td>KD</td>\n",
       "      <td>=</td>\n",
       "      <td>1.200000e-06</td>\n",
       "      <td>M</td>\n",
       "      <td>Tested for the apparent dissociation constant ...</td>\n",
       "      <td>NaN</td>\n",
       "    </tr>\n",
       "  </tbody>\n",
       "</table>\n",
       "</div>"
      ],
      "text/plain": [
       "      compound_id           standard_inchi_key target_id mutation_info  \\\n",
       "216  CHEMBL135581  AAAKPBKWFMPTSQ-UHFFFAOYSA-N    P00374           NaN   \n",
       "217  CHEMBL135581  AAAKPBKWFMPTSQ-UHFFFAOYSA-N    P00374           NaN   \n",
       "218  CHEMBL135581  AAAKPBKWFMPTSQ-UHFFFAOYSA-N    P00374           NaN   \n",
       "219  CHEMBL135581  AAAKPBKWFMPTSQ-UHFFFAOYSA-N    P00374           NaN   \n",
       "220  CHEMBL135581  AAAKPBKWFMPTSQ-UHFFFAOYSA-N    P00374           NaN   \n",
       "\n",
       "    standard_type standard_relation  standard_value standard_units  \\\n",
       "216            KD                 =    5.000000e-10              M   \n",
       "217            KD                 =    6.000000e-10              M   \n",
       "218            KD                 =    4.500000e-07              M   \n",
       "219            KD                 =    1.000000e-06              M   \n",
       "220            KD                 =    1.200000e-06              M   \n",
       "\n",
       "                                     assay_description annotation_comments  \n",
       "216  Tested for the apparent dissociation constant ...                 NaN  \n",
       "217  Tested for the apparent dissociation constant ...                 NaN  \n",
       "218  Tested for the apparent dissociation constant ...                 NaN  \n",
       "219  Tested for the apparent dissociation constant ...                 NaN  \n",
       "220  Tested for the apparent dissociation constant ...                 NaN  "
      ]
     },
     "execution_count": 179,
     "metadata": {},
     "output_type": "execute_result"
    }
   ],
   "source": [
    "dataset = dataset[~dataset.target_id.str.contains(',')]\n",
    "print(f\"Size of the dataset after this filter : {len(dataset)}\")\n",
    "dataset.head()"
   ]
  },
  {
   "cell_type": "markdown",
   "metadata": {},
   "source": [
    "# Are there any duplicates?"
   ]
  },
  {
   "cell_type": "code",
   "execution_count": 180,
   "metadata": {},
   "outputs": [
    {
     "data": {
      "text/plain": [
       "['Tested for the apparent dissociation constant for binding of compound to binary NADPH complex with human dihydrofolate reductase using equation 4',\n",
       " 'Tested for the apparent dissociation constant for binding of compound to ternary NADPH complex with human dihydrofolate reductase using equation 4',\n",
       " 'Tested for the apparent dissociation constant for binding of compound to ternary NADPH complex with human dihydrofolate reductase using equation 11',\n",
       " 'Tested for the apparent dissociation constant for binding of compound to ternary NADPH complex with human dihydrofolate reductase using equations 15 and 16',\n",
       " 'Tested for the apparent dissociation constant for binding of compound to binary NADPH complex with human dihydrofolate reductase using equations 11 and 12',\n",
       " 'Apparent dissociation constant at pH 6.6 for human dihydrofolate reductase in the presence of cofactor NADPH',\n",
       " 'Tested for the apparent dissociation constant for binding of compound to binary NADPH complex with human dihydrofolate reductase using equation 11',\n",
       " 'Tested for the apparent dissociation constant for binding of compound to binary NADPH complex with human dihydrofolate reductase using equation 16',\n",
       " 'Apparent dissociation constant at pH 6.6 for Chicken dihydrofolate reductase in the absence of cofactor NADPH',\n",
       " 'Apparent dissociation constant at pH 6.6 for human dihydrofolate reductase in the absence of cofactor NADPH',\n",
       " 'Apparent dissociation constant at pH 6.6 for Chicken dihydrofolate reductase in the presence of cofactor NADPH']"
      ]
     },
     "execution_count": 180,
     "metadata": {},
     "output_type": "execute_result"
    }
   ],
   "source": [
    "dataset[(dataset.standard_inchi_key == 'AAAKPBKWFMPTSQ-UHFFFAOYSA-N') & (dataset.target_id == 'P00374')].assay_description.tolist()"
   ]
  },
  {
   "cell_type": "markdown",
   "metadata": {},
   "source": [
    "It looks difficult to remove the ambiguity, and it looks like there is much variation between measurements, we should probably remove duplicates..."
   ]
  },
  {
   "cell_type": "code",
   "execution_count": 181,
   "metadata": {},
   "outputs": [
    {
     "data": {
      "text/html": [
       "<div>\n",
       "<style scoped>\n",
       "    .dataframe tbody tr th:only-of-type {\n",
       "        vertical-align: middle;\n",
       "    }\n",
       "\n",
       "    .dataframe tbody tr th {\n",
       "        vertical-align: top;\n",
       "    }\n",
       "\n",
       "    .dataframe thead th {\n",
       "        text-align: right;\n",
       "    }\n",
       "</style>\n",
       "<table border=\"1\" class=\"dataframe\">\n",
       "  <thead>\n",
       "    <tr style=\"text-align: right;\">\n",
       "      <th></th>\n",
       "      <th></th>\n",
       "      <th>standard_value</th>\n",
       "      <th>standard_units</th>\n",
       "    </tr>\n",
       "    <tr>\n",
       "      <th>standard_inchi_key</th>\n",
       "      <th>target_id</th>\n",
       "      <th></th>\n",
       "      <th></th>\n",
       "    </tr>\n",
       "  </thead>\n",
       "  <tbody>\n",
       "    <tr>\n",
       "      <th>AAAKPBKWFMPTSQ-UHFFFAOYSA-N</th>\n",
       "      <th>P00374</th>\n",
       "      <td>2.077373e-06</td>\n",
       "      <td>11</td>\n",
       "    </tr>\n",
       "    <tr>\n",
       "      <th rowspan=\"3\" valign=\"top\">AAAQFGUYHFJNHI-SFHVURJKSA-N</th>\n",
       "      <th>O60885</th>\n",
       "      <td>6.853333e-08</td>\n",
       "      <td>6</td>\n",
       "    </tr>\n",
       "    <tr>\n",
       "      <th>P25440</th>\n",
       "      <td>1.161167e-07</td>\n",
       "      <td>6</td>\n",
       "    </tr>\n",
       "    <tr>\n",
       "      <th>Q15059</th>\n",
       "      <td>6.022500e-08</td>\n",
       "      <td>4</td>\n",
       "    </tr>\n",
       "    <tr>\n",
       "      <th>AADCDMQTJNYOSS-LBPRGKRZSA-N</th>\n",
       "      <th>P61169</th>\n",
       "      <td>1.700000e-10</td>\n",
       "      <td>2</td>\n",
       "    </tr>\n",
       "  </tbody>\n",
       "</table>\n",
       "</div>"
      ],
      "text/plain": [
       "                                       standard_value  standard_units\n",
       "standard_inchi_key          target_id                                \n",
       "AAAKPBKWFMPTSQ-UHFFFAOYSA-N P00374       2.077373e-06              11\n",
       "AAAQFGUYHFJNHI-SFHVURJKSA-N O60885       6.853333e-08               6\n",
       "                            P25440       1.161167e-07               6\n",
       "                            Q15059       6.022500e-08               4\n",
       "AADCDMQTJNYOSS-LBPRGKRZSA-N P61169       1.700000e-10               2"
      ]
     },
     "execution_count": 181,
     "metadata": {},
     "output_type": "execute_result"
    }
   ],
   "source": [
    "grouped = dataset.groupby(['standard_inchi_key', 'target_id']).aggregate({'standard_value': np.mean, 'standard_units': 'count'})\n",
    "grouped.head()"
   ]
  },
  {
   "cell_type": "markdown",
   "metadata": {},
   "source": [
    "Let's see how many (target,compound) pairs have only one measurement"
   ]
  },
  {
   "cell_type": "code",
   "execution_count": 182,
   "metadata": {},
   "outputs": [
    {
     "data": {
      "text/plain": [
       "19694"
      ]
     },
     "execution_count": 182,
     "metadata": {},
     "output_type": "execute_result"
    }
   ],
   "source": [
    "len(grouped[grouped.standard_units == 1])"
   ]
  },
  {
   "cell_type": "code",
   "execution_count": 183,
   "metadata": {},
   "outputs": [],
   "source": [
    "join_df = grouped[grouped.standard_units==1].reset_index()[['standard_inchi_key', 'target_id']]"
   ]
  },
  {
   "cell_type": "code",
   "execution_count": 184,
   "metadata": {},
   "outputs": [
    {
     "name": "stdout",
     "output_type": "stream",
     "text": [
      "Size of the dataset after this filter : 19694\n"
     ]
    },
    {
     "data": {
      "text/html": [
       "<div>\n",
       "<style scoped>\n",
       "    .dataframe tbody tr th:only-of-type {\n",
       "        vertical-align: middle;\n",
       "    }\n",
       "\n",
       "    .dataframe tbody tr th {\n",
       "        vertical-align: top;\n",
       "    }\n",
       "\n",
       "    .dataframe thead th {\n",
       "        text-align: right;\n",
       "    }\n",
       "</style>\n",
       "<table border=\"1\" class=\"dataframe\">\n",
       "  <thead>\n",
       "    <tr style=\"text-align: right;\">\n",
       "      <th></th>\n",
       "      <th>compound_id</th>\n",
       "      <th>standard_inchi_key</th>\n",
       "      <th>target_id</th>\n",
       "      <th>mutation_info</th>\n",
       "      <th>standard_type</th>\n",
       "      <th>standard_relation</th>\n",
       "      <th>standard_value</th>\n",
       "      <th>standard_units</th>\n",
       "      <th>assay_description</th>\n",
       "      <th>annotation_comments</th>\n",
       "    </tr>\n",
       "  </thead>\n",
       "  <tbody>\n",
       "    <tr>\n",
       "      <th>0</th>\n",
       "      <td>CHEMBL52036</td>\n",
       "      <td>AADRGVCQNSFPFW-UHFFFAOYSA-N</td>\n",
       "      <td>P34976</td>\n",
       "      <td>NaN</td>\n",
       "      <td>KD</td>\n",
       "      <td>=</td>\n",
       "      <td>7.760000e-09</td>\n",
       "      <td>M</td>\n",
       "      <td>pA2 value determined in vitro against angioten...</td>\n",
       "      <td>NaN</td>\n",
       "    </tr>\n",
       "    <tr>\n",
       "      <th>1</th>\n",
       "      <td>CHEMBL404104</td>\n",
       "      <td>AAGINKIHSIMCMJ-STXWUJDDSA-J</td>\n",
       "      <td>P02751</td>\n",
       "      <td>NaN</td>\n",
       "      <td>KD</td>\n",
       "      <td>=</td>\n",
       "      <td>5.500000e-09</td>\n",
       "      <td>M</td>\n",
       "      <td>Binding affinity to fibronectin using surface ...</td>\n",
       "      <td>NaN</td>\n",
       "    </tr>\n",
       "    <tr>\n",
       "      <th>2</th>\n",
       "      <td>CHEMBL1448105</td>\n",
       "      <td>AAHPIJMQJAZYTM-UHFFFAOYSA-N</td>\n",
       "      <td>P27694</td>\n",
       "      <td>NaN</td>\n",
       "      <td>KD</td>\n",
       "      <td>=</td>\n",
       "      <td>6.270000e-04</td>\n",
       "      <td>M</td>\n",
       "      <td>Binding affinity to human RPA70N assessed as i...</td>\n",
       "      <td>NaN</td>\n",
       "    </tr>\n",
       "    <tr>\n",
       "      <th>3</th>\n",
       "      <td>CHEMBL3236571</td>\n",
       "      <td>AAINEFSCHYZRDZ-LLVKDONJSA-N</td>\n",
       "      <td>Q9H3N8</td>\n",
       "      <td>NaN</td>\n",
       "      <td>KD</td>\n",
       "      <td>=</td>\n",
       "      <td>3.980000e-09</td>\n",
       "      <td>M</td>\n",
       "      <td>Antagonist activity at human histamine H4 rece...</td>\n",
       "      <td>NaN</td>\n",
       "    </tr>\n",
       "    <tr>\n",
       "      <th>4</th>\n",
       "      <td>CHEMBL553</td>\n",
       "      <td>AAKJLRGGTJKAMG-UHFFFAOYSA-N</td>\n",
       "      <td>Q9Y2U5</td>\n",
       "      <td>NaN</td>\n",
       "      <td>KD</td>\n",
       "      <td>=</td>\n",
       "      <td>2.500000e-06</td>\n",
       "      <td>M</td>\n",
       "      <td>Binding constant for MAP3K2 kinase domain</td>\n",
       "      <td>NaN</td>\n",
       "    </tr>\n",
       "  </tbody>\n",
       "</table>\n",
       "</div>"
      ],
      "text/plain": [
       "     compound_id           standard_inchi_key target_id mutation_info  \\\n",
       "0    CHEMBL52036  AADRGVCQNSFPFW-UHFFFAOYSA-N    P34976           NaN   \n",
       "1   CHEMBL404104  AAGINKIHSIMCMJ-STXWUJDDSA-J    P02751           NaN   \n",
       "2  CHEMBL1448105  AAHPIJMQJAZYTM-UHFFFAOYSA-N    P27694           NaN   \n",
       "3  CHEMBL3236571  AAINEFSCHYZRDZ-LLVKDONJSA-N    Q9H3N8           NaN   \n",
       "4      CHEMBL553  AAKJLRGGTJKAMG-UHFFFAOYSA-N    Q9Y2U5           NaN   \n",
       "\n",
       "  standard_type standard_relation  standard_value standard_units  \\\n",
       "0            KD                 =    7.760000e-09              M   \n",
       "1            KD                 =    5.500000e-09              M   \n",
       "2            KD                 =    6.270000e-04              M   \n",
       "3            KD                 =    3.980000e-09              M   \n",
       "4            KD                 =    2.500000e-06              M   \n",
       "\n",
       "                                   assay_description annotation_comments  \n",
       "0  pA2 value determined in vitro against angioten...                 NaN  \n",
       "1  Binding affinity to fibronectin using surface ...                 NaN  \n",
       "2  Binding affinity to human RPA70N assessed as i...                 NaN  \n",
       "3  Antagonist activity at human histamine H4 rece...                 NaN  \n",
       "4          Binding constant for MAP3K2 kinase domain                 NaN  "
      ]
     },
     "execution_count": 184,
     "metadata": {},
     "output_type": "execute_result"
    }
   ],
   "source": [
    "dataset = dataset.merge(join_df,\n",
    "                        on=['standard_inchi_key', 'target_id'], \n",
    "                        how = 'inner')\n",
    "print(f\"Size of the dataset after this filter : {len(dataset)}\")\n",
    "dataset.head()"
   ]
  },
  {
   "cell_type": "markdown",
   "metadata": {},
   "source": [
    "# What about the standard value?"
   ]
  },
  {
   "cell_type": "code",
   "execution_count": 185,
   "metadata": {},
   "outputs": [
    {
     "data": {
      "text/plain": [
       "count    1.969400e+04\n",
       "mean     1.212129e-03\n",
       "std      7.414883e-02\n",
       "min      0.000000e+00\n",
       "1%       7.995800e-11\n",
       "10%      2.000000e-09\n",
       "25%      1.995000e-08\n",
       "50%      3.100000e-07\n",
       "75%      2.900000e-06\n",
       "90%      1.530000e-05\n",
       "99%      1.753500e-03\n",
       "max      1.000000e+01\n",
       "Name: standard_value, dtype: float64"
      ]
     },
     "execution_count": 185,
     "metadata": {},
     "output_type": "execute_result"
    }
   ],
   "source": [
    "dataset.standard_value.describe(percentiles=[0.01, 0.1,0.25,0.50,0.75,0.9, 0.99])"
   ]
  },
  {
   "cell_type": "markdown",
   "metadata": {},
   "source": [
    "Some outliers seem to be remaining"
   ]
  },
  {
   "cell_type": "code",
   "execution_count": 186,
   "metadata": {},
   "outputs": [],
   "source": [
    "dataset = dataset[(dataset.standard_value <= 1.7e-3) & (dataset.standard_value >= 1.e-10)]"
   ]
  },
  {
   "cell_type": "code",
   "execution_count": 187,
   "metadata": {},
   "outputs": [
    {
     "data": {
      "text/plain": [
       "<matplotlib.axes._subplots.AxesSubplot at 0x7fd8120236a0>"
      ]
     },
     "execution_count": 187,
     "metadata": {},
     "output_type": "execute_result"
    },
    {
     "data": {
      "image/png": "[encoded data removed]",
      "text/plain": [
       "<Figure size 432x288 with 1 Axes>"
      ]
     },
     "metadata": {
      "needs_background": "light"
     },
     "output_type": "display_data"
    }
   ],
   "source": [
    "dataset.standard_value.plot.hist(bins=[1e-10*(3**x) for x in range(1,15)], logx=True, logy=True)"
   ]
  },
  {
   "cell_type": "code",
   "execution_count": 197,
   "metadata": {},
   "outputs": [
    {
     "name": "stdout",
     "output_type": "stream",
     "text": [
      "Final dataset length : 19269\n"
     ]
    }
   ],
   "source": [
    "print(f\"Final dataset length : {len(dataset)}\")"
   ]
  },
  {
   "cell_type": "code",
   "execution_count": null,
   "metadata": {},
   "outputs": [],
   "source": []
  }
 ],
 "metadata": {
  "kernelspec": {
   "display_name": "Python 3",
   "language": "python",
   "name": "python3"
  },
  "language_info": {
   "codemirror_mode": {
    "name": "ipython",
    "version": 3
   },
   "file_extension": ".py",
   "mimetype": "text/x-python",
   "name": "python",
   "nbconvert_exporter": "python",
   "pygments_lexer": "ipython3",
   "version": "3.7.2"
  }
 },
 "nbformat": 4,
 "nbformat_minor": 2
}
